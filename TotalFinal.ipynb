{
 "cells": [
  {
   "cell_type": "code",
   "execution_count": 174,
   "id": "c8143379-3d29-4c04-aee0-45608b2ea08f",
   "metadata": {},
   "outputs": [],
   "source": [
    "# Importing necessary libraries\n",
    "import pandas as pd\n",
    "\n",
    "# Set the file location as a string using a raw string literal\n",
    "file_location = r'<FILE LOCATION OF THE RAW CONTENT OF ALL THE FILES>'\n",
    "\n",
    "# Use the pandas library to read the CSV file and store the contents in a DataFrame object\n",
    "df = pd.read_csv(file_location)"
   ]
  },
  {
   "cell_type": "code",
   "execution_count": 176,
   "id": "03b4e0b6-78ae-415a-9579-d7faf18c1818",
   "metadata": {},
   "outputs": [],
   "source": [
    "# Mask all empty strings in the DataFrame with NaN and create a new DataFrame object df_no_empty\n",
    "df_no_empty = df.mask(df == '')\n",
    "\n",
    "# Calculate the percentage of missing values in each column of the DataFrame \n",
    "# and store the result as a DataFrame object df_lp\n",
    "low_percentage = ((len(df)-df.count(axis=0))/len(df))\n",
    "df_lp = low_percentage.to_frame().reset_index().rename(columns={0: \"percentage\", \"index\": \"column_name\"})\n",
    "\n",
    "# Select only the columns with a percentage of missing values greater than 40% \n",
    "# and store the result as a DataFrame object df_lp\n",
    "df_lp = df_lp.loc[df_lp['percentage'] > 0.4]\n",
    "\n",
    "# Iterate over the rows of df_lp and drop the columns with a high percentage of missing values from df_no_empty\n",
    "for index, row in df_lp.iterrows():\n",
    "    df_no_empty = df_no_empty.drop(columns=row['column_name'])"
   ]
  },
  {
   "cell_type": "code",
   "execution_count": 178,
   "id": "abbf1027-81a3-4771-9f80-ed54b23490b3",
   "metadata": {},
   "outputs": [],
   "source": [
    "# Create a new DataFrame object df_filled by selecting only the rows of df_no_empty where the \"Language\" column is not \"error\"\n",
    "df_filled = df_no_empty[df_no_empty.Language != \"error\"]"
   ]
  },
  {
   "cell_type": "code",
   "execution_count": 179,
   "id": "a7f2c054-ba23-4eb0-956d-1be516a40d6e",
   "metadata": {},
   "outputs": [],
   "source": [
    "import numpy as np\n",
    "\n",
    "# Replace the \"neg\", \"neu\", \"pos\", \"compound\", and \"Overall sentiment\" columns of rows where the \"Language\" column is not \"en\" with NaN\n",
    "df_filled.loc[df_filled['Language'] != 'en','neg'] = np.nan\n",
    "df_filled.loc[df_filled['Language'] != 'en','neu'] = np.nan\n",
    "df_filled.loc[df_filled['Language'] != 'en','pos'] = np.nan\n",
    "df_filled.loc[df_filled['Language'] != 'en','compound'] = np.nan\n",
    "df_filled.loc[df_filled['Language'] != 'en','Overall sentiment'] = np.nan"
   ]
  },
  {
   "cell_type": "code",
   "execution_count": 180,
   "id": "687dc8c9-eae7-4cdf-84de-dce5d08a1912",
   "metadata": {},
   "outputs": [],
   "source": [
    "# Create a new DataFrame object df_final by selecting only the rows of df_filled where the \"Sector\" column is equal to \"Energy\"\n",
    "df_final = df_filled[df_filled.Sector == \"Energy\"]"
   ]
  },
  {
   "cell_type": "code",
   "execution_count": 182,
   "id": "67ef1ed1-24cb-40f4-85e7-557dcfdbd99c",
   "metadata": {},
   "outputs": [],
   "source": [
    "# Set the file location of the last csv file where to write to\n",
    "file_location = r'<FINAL EXPORT FILE LOCATION>'\n",
    "\n",
    "# Write the df_final dataframe into the specified file\n",
    "df_final.to_csv(file_location, index=False)"
   ]
  }
 ],
 "metadata": {
  "kernelspec": {
   "display_name": "Python 3 (ipykernel)",
   "language": "python",
   "name": "python3"
  },
  "language_info": {
   "codemirror_mode": {
    "name": "ipython",
    "version": 3
   },
   "file_extension": ".py",
   "mimetype": "text/x-python",
   "name": "python",
   "nbconvert_exporter": "python",
   "pygments_lexer": "ipython3",
   "version": "3.10.9"
  }
 },
 "nbformat": 4,
 "nbformat_minor": 5
}
